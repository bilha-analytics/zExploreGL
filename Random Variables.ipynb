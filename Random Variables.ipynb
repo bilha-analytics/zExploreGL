{
 "cells": [
  {
   "cell_type": "markdown",
   "metadata": {
    "toc": true
   },
   "source": [
    "<h1>Table of Contents<span class=\"tocSkip\"></span></h1>\n",
    "<div class=\"toc\"><ul class=\"toc-item\"></ul></div>"
   ]
  },
  {
   "cell_type": "code",
   "execution_count": 1,
   "metadata": {},
   "outputs": [],
   "source": [
    "import pandas as pd\n",
    "import numpy as np\n",
    "import matplotlib.pyplot as plt \n",
    "import numpy.random as rnd\n",
    "\n",
    "%matplotlib inline"
   ]
  },
  {
   "cell_type": "code",
   "execution_count": 14,
   "metadata": {},
   "outputs": [
    {
     "data": {
      "text/plain": [
       "array([0, 0, 1, 1, 0, 0, 0, 1, 1, 1])"
      ]
     },
     "execution_count": 14,
     "metadata": {},
     "output_type": "execute_result"
    }
   ],
   "source": [
    "# set seed make deterministic \n",
    "rnd.seed( 3 )\n",
    "# randint(low, high, size) \n",
    "rnd.randint(0, 1+1, 10)"
   ]
  },
  {
   "cell_type": "code",
   "execution_count": 32,
   "metadata": {},
   "outputs": [
    {
     "name": "stdout",
     "output_type": "stream",
     "text": [
      "51 heads and 49 tails\n"
     ]
    }
   ],
   "source": [
    "## Flip a coin 100 times and count number of heads (0s)  and tails (1s)\n",
    "n = 100\n",
    "rnd.seed(4)\n",
    "flip = rnd.randint(0, 1+1, n)\n",
    "heads = np.count_nonzero( flip == 0)\n",
    "tails = np.count_nonzero( flip == 1)\n",
    "       \n",
    "print( \"%d heads and %d tails\"%(heads, tails))\n",
    "    "
   ]
  },
  {
   "cell_type": "code",
   "execution_count": 33,
   "metadata": {},
   "outputs": [
    {
     "name": "stdout",
     "output_type": "stream",
     "text": [
      "Outcome at 0 is 51\n",
      "Outcome at 1 is 49\n"
     ]
    }
   ],
   "source": [
    "## Multiple variables \n",
    "xi = 2 ## two variables \n",
    "outcomes = np.zeros( xi, dtype='int')  ## heads in outcome[0], tails in [1]\n",
    "for i in range(xi):\n",
    "    outcomes[i] = np.count_nonzero( flip == i)\n",
    "    print( \"Outcome at %d is %s\"%( i, outcomes[i]) )"
   ]
  },
  {
   "cell_type": "code",
   "execution_count": 66,
   "metadata": {},
   "outputs": [
    {
     "name": "stdout",
     "output_type": "stream",
     "text": [
      "Outcome at 1 is 17 --- total = 17\n",
      "Outcome at 2 is 17 --- total = 34\n",
      "Outcome at 3 is 15 --- total = 49\n",
      "Outcome at 4 is 24 --- total = 73\n",
      "Outcome at 5 is 19 --- total = 92\n",
      "Outcome at 6 is 8 --- total = 100\n"
     ]
    },
    {
     "data": {
      "text/plain": [
       "<matplotlib.axes._subplots.AxesSubplot at 0x1ea8c69eb00>"
      ]
     },
     "execution_count": 66,
     "metadata": {},
     "output_type": "execute_result"
    },
    {
     "data": {
      "image/png": "[encoded data removed]",
      "text/plain": [
       "<matplotlib.figure.Figure at 0x1ea8c58f2b0>"
      ]
     },
     "metadata": {},
     "output_type": "display_data"
    }
   ],
   "source": [
    "### Throw a dice\n",
    "# Throw a 6-sided dice 100 times an report counts for each face\n",
    "\n",
    "die = rnd.randint( 1, 6+1, 100) \n",
    "xi = 6\n",
    "rnd.seed(33)\n",
    "res = np.zeros( xi, dtype='int')\n",
    "for i in range( xi):\n",
    "    res[i] = np.count_nonzero( die == i+1)\n",
    "    print( \"Outcome at %d is %s --- total = %d\" % (i+1, res[i], np.sum(res)))\n",
    "\n",
    "pd.Series( res ).plot()\n"
   ]
  },
  {
   "cell_type": "code",
   "execution_count": 86,
   "metadata": {},
   "outputs": [],
   "source": [
    "## Discrete random variable\n",
    "\n",
    "def discreteRV(n, xi, x0=0, rsd=33):\n",
    "    rnd.seed(rsd)\n",
    "    if( x0 == 0):\n",
    "        recs = rnd.randint(x0, xi, n )\n",
    "    else:\n",
    "        recs = rnd.randint(x0, xi+1, n )\n",
    "    #print(recs)\n",
    "    \n",
    "    outz = np.zeros( xi, dtype='int')\n",
    "        \n",
    "    for i in range( xi ):\n",
    "        if( x0 == 0):\n",
    "            outz[i] = np.count_nonzero( recs == i )\n",
    "            print( \"Outcome at %d is %s --- total = %d\" % (i, outz[i], np.sum(outz))) \n",
    "        else:\n",
    "            outz[i] = np.count_nonzero( recs == i+1 )\n",
    "            print( \"Outcome at %d is %s --- total = %d\" % (i+1, outz[i], np.sum(outz))) \n",
    "    print( outz)\n",
    "    return (recs, outz)\n",
    "\n",
    "            "
   ]
  },
  {
   "cell_type": "code",
   "execution_count": 96,
   "metadata": {},
   "outputs": [
    {
     "name": "stdout",
     "output_type": "stream",
     "text": [
      "Outcome at 0 is 503 --- total = 503\n",
      "Outcome at 1 is 497 --- total = 1000\n",
      "[503 497]\n"
     ]
    },
    {
     "data": {
      "text/plain": [
       "Text(0,0.5,'Number of Observations')"
      ]
     },
     "execution_count": 96,
     "metadata": {},
     "output_type": "execute_result"
    },
    {
     "data": {
      "image/png": "[encoded data removed]",
      "text/plain": [
       "<matplotlib.figure.Figure at 0x1ea8d9b24a8>"
      ]
     },
     "metadata": {},
     "output_type": "display_data"
    }
   ],
   "source": [
    "## Flip Coin 1000 times\n",
    "flips, outcomes = discreteRV(1000, 2, x0=0, rsd=11)\n",
    "plt.bar( range(0,2), outcomes)\n",
    "plt.xticks( range(0,2))\n",
    "plt.xlabel( \"Heads or Tails\")\n",
    "plt.ylabel( \"Number of Observations\")"
   ]
  },
  {
   "cell_type": "code",
   "execution_count": 111,
   "metadata": {},
   "outputs": [
    {
     "name": "stdout",
     "output_type": "stream",
     "text": [
      "\n",
      "Number of tails at 0, 1, 2: [27 47 26] \n"
     ]
    },
    {
     "data": {
      "image/png": "[encoded data removed]",
      "text/plain": [
       "<matplotlib.figure.Figure at 0x1ea8da3b5c0>"
      ]
     },
     "metadata": {},
     "output_type": "display_data"
    }
   ],
   "source": [
    "## flip coin twice \n",
    "rnd.seed(55)\n",
    "flips = rnd.randint(low=0, high=1+1, size=(2, 100) )\n",
    "#print( \"\\nflips: \", flips)\n",
    "tails = np.sum(flips, axis=0)\n",
    "#print(\"\\nTails: \", tails)\n",
    "nb_tails = np.zeros(3, dtype='int')\n",
    "for i in range(3):\n",
    "    nb_tails[i] = np.count_nonzero( tails == i)\n",
    "print( \"\\nNumber of tails at 0, 1, 2: %s \" % nb_tails)\n",
    "\n",
    "\n",
    "plt.bar( range(0,3), nb_tails) \n",
    "plt.xticks( range(0,3) )\n",
    "plt.xlabel( \"Number of Tails\")\n",
    "plt.ylabel( \"Number of Observations in 100\"); "
   ]
  },
  {
   "cell_type": "code",
   "execution_count": 116,
   "metadata": {},
   "outputs": [
    {
     "data": {
      "text/plain": [
       "Text(0,0.5,'Cumulative Probability')"
      ]
     },
     "execution_count": 116,
     "metadata": {},
     "output_type": "execute_result"
    },
    {
     "data": {
      "image/png": "[encoded data removed]",
      "text/plain": [
       "<matplotlib.figure.Figure at 0x1ea8e362a20>"
      ]
     },
     "metadata": {},
     "output_type": "display_data"
    }
   ],
   "source": [
    "## Cumulative Probability\n",
    "\n",
    "px = nb_tails/100\n",
    "#print( px )\n",
    "cum_px = np.cumsum( px )\n",
    "\n",
    "plt.bar( range(0,3), cum_px, width=1)\n",
    "plt.xticks( range(0,3))\n",
    "plt.xlabel( \"Number of Tails in 2 Flips\")\n",
    "plt.ylabel( \"Cumulative Probability\")"
   ]
  },
  {
   "cell_type": "code",
   "execution_count": 121,
   "metadata": {},
   "outputs": [
    {
     "name": "stdout",
     "output_type": "stream",
     "text": [
      "\n",
      "Number of tails at 0, 1, 2, 3, 4, 5: [ 22 160 320 320 157  21] \n"
     ]
    },
    {
     "data": {
      "image/png": "[encoded data removed]",
      "text/plain": [
       "<matplotlib.figure.Figure at 0x1ea8ddf20b8>"
      ]
     },
     "metadata": {},
     "output_type": "display_data"
    }
   ],
   "source": [
    "## Flip coin 5 times \n",
    "rnd.seed(55)\n",
    "flips = rnd.randint(low=0, high=1+1, size=(5, 1000) )\n",
    "tails = np.sum(flips, axis=0)\n",
    "nb_tails = np.zeros(6, dtype='int')\n",
    "for i in range(6):\n",
    "    nb_tails[i] = np.count_nonzero( tails == i)\n",
    "print( \"\\nNumber of tails at 0, 1, 2, 3, 4, 5: %s \" % nb_tails)\n",
    "\n",
    "\n",
    "plt.bar( range(0,6), nb_tails) \n",
    "plt.xticks( range(0,6) )\n",
    "plt.xlabel( \"Number of Tails\")\n",
    "plt.ylabel( \"Number of Observations in 100\"); \n"
   ]
  },
  {
   "cell_type": "code",
   "execution_count": 120,
   "metadata": {},
   "outputs": [
    {
     "data": {
      "image/png": "[encoded data removed]",
      "text/plain": [
       "<matplotlib.figure.Figure at 0x1ea8dea3eb8>"
      ]
     },
     "metadata": {},
     "output_type": "display_data"
    }
   ],
   "source": [
    "\n",
    "# Cumulative Probability\n",
    "\n",
    "px = nb_tails/1000\n",
    "cum_px = np.cumsum( px )\n",
    "plt.bar( range(0,6), cum_px, width=1)\n",
    "plt.xticks( range(0,6))\n",
    "plt.xlabel( \"Number of Tails in 5 Flips\")\n",
    "plt.ylabel( \"Cumulative Probability\"); "
   ]
  },
  {
   "cell_type": "code",
   "execution_count": 122,
   "metadata": {},
   "outputs": [],
   "source": [
    "## Probability of Bernouilli Variable\n",
    "import scipy.misc \n"
   ]
  },
  {
   "cell_type": "code",
   "execution_count": null,
   "metadata": {},
   "outputs": [],
   "source": [
    "## Systems of Linear Equations \n"
   ]
  }
 ],
 "metadata": {
  "kernelspec": {
   "display_name": "Python 3",
   "language": "python",
   "name": "python3"
  },
  "language_info": {
   "codemirror_mode": {
    "name": "ipython",
    "version": 3
   },
   "file_extension": ".py",
   "mimetype": "text/x-python",
   "name": "python",
   "nbconvert_exporter": "python",
   "pygments_lexer": "ipython3",
   "version": "3.6.3"
  },
  "latex_envs": {
   "LaTeX_envs_menu_present": true,
   "autoclose": false,
   "autocomplete": true,
   "bibliofile": "biblio.bib",
   "cite_by": "apalike",
   "current_citInitial": 1,
   "eqLabelWithNumbers": true,
   "eqNumInitial": 1,
   "hotkeys": {
    "equation": "Ctrl-E",
    "itemize": "Ctrl-I"
   },
   "labels_anchors": false,
   "latex_user_defs": false,
   "report_style_numbering": false,
   "user_envs_cfg": false
  },
  "toc": {
   "nav_menu": {},
   "number_sections": true,
   "sideBar": true,
   "skip_h1_title": false,
   "title_cell": "Table of Contents",
   "title_sidebar": "Contents",
   "toc_cell": true,
   "toc_position": {},
   "toc_section_display": true,
   "toc_window_display": false
  }
 },
 "nbformat": 4,
 "nbformat_minor": 2
}
