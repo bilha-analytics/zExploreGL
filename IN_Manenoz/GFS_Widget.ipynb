{
 "cells": [
  {
   "cell_type": "markdown",
   "metadata": {
    "toc": true
   },
   "source": [
    "<h1>Table of Contents<span class=\"tocSkip\"></span></h1>\n",
    "<div class=\"toc\"><ul class=\"toc-item\"><li><span><a href=\"#Jupyter-Notebook-Widget-Example\" data-toc-modified-id=\"Jupyter-Notebook-Widget-Example-1\"><span class=\"toc-item-num\">1&nbsp;&nbsp;</span>Jupyter Notebook Widget Example</a></span></li></ul></div>"
   ]
  },
  {
   "cell_type": "code",
   "execution_count": null,
   "metadata": {},
   "outputs": [],
   "source": [
    "%matplotlib inline"
   ]
  },
  {
   "cell_type": "markdown",
   "metadata": {},
   "source": [
    "\n",
    "# Jupyter Notebook Widget Example\n",
    "\n",
    "\n",
    "An example of using widgets in a Jupyter Notebook.\n",
    "\n",
    "This example is only intended to be run in a Jupyter Notebook running a Python\n",
    "kernel as it displays the ability to use widgets and make an interactive plot.\n",
    "The interactive plot has the ability to display three different variables, a couple\n",
    "of different times, and use four different color maps.\n",
    "\n"
   ]
  },
  {
   "cell_type": "code",
   "execution_count": 1,
   "metadata": {},
   "outputs": [
    {
     "ename": "ModuleNotFoundError",
     "evalue": "No module named 'cartopy'",
     "output_type": "error",
     "traceback": [
      "\u001b[1;31m---------------------------------------------------------------------------\u001b[0m",
      "\u001b[1;31mModuleNotFoundError\u001b[0m                       Traceback (most recent call last)",
      "\u001b[1;32m<ipython-input-1-2774baf46b5e>\u001b[0m in \u001b[0;36m<module>\u001b[1;34m()\u001b[0m\n\u001b[0;32m      1\u001b[0m \u001b[1;32mfrom\u001b[0m \u001b[0mdatetime\u001b[0m \u001b[1;32mimport\u001b[0m \u001b[0mdatetime\u001b[0m\u001b[1;33m,\u001b[0m \u001b[0mtimedelta\u001b[0m\u001b[1;33m\u001b[0m\u001b[0m\n\u001b[0;32m      2\u001b[0m \u001b[1;33m\u001b[0m\u001b[0m\n\u001b[1;32m----> 3\u001b[1;33m \u001b[1;32mimport\u001b[0m \u001b[0mcartopy\u001b[0m\u001b[1;33m.\u001b[0m\u001b[0mcrs\u001b[0m \u001b[1;32mas\u001b[0m \u001b[0mccrs\u001b[0m\u001b[1;33m\u001b[0m\u001b[0m\n\u001b[0m\u001b[0;32m      4\u001b[0m \u001b[1;32mimport\u001b[0m \u001b[0mcartopy\u001b[0m\u001b[1;33m.\u001b[0m\u001b[0mfeature\u001b[0m \u001b[1;32mas\u001b[0m \u001b[0mcfeature\u001b[0m\u001b[1;33m\u001b[0m\u001b[0m\n\u001b[0;32m      5\u001b[0m \u001b[1;32mfrom\u001b[0m \u001b[0mIPython\u001b[0m\u001b[1;33m.\u001b[0m\u001b[0mdisplay\u001b[0m \u001b[1;32mimport\u001b[0m \u001b[0mdisplay\u001b[0m\u001b[1;33m\u001b[0m\u001b[0m\n",
      "\u001b[1;31mModuleNotFoundError\u001b[0m: No module named 'cartopy'"
     ]
    }
   ],
   "source": [
    "from datetime import datetime, timedelta\n",
    "\n",
    "import cartopy.crs as ccrs\n",
    "import cartopy.feature as cfeature\n",
    "from IPython.display import display\n",
    "import ipywidgets as widgets\n",
    "import matplotlib.pyplot as plt\n",
    "from metpy.units import units\n",
    "from netCDF4 import num2date\n",
    "import numpy as np\n",
    "from siphon.catalog import TDSCatalog\n",
    "from siphon.ncss import NCSS\n",
    "\n",
    "\n",
    "# Request the GFS data from the thredds server\n",
    "gfs = TDSCatalog('http://atm.ucar.edu/thredds/catalog/grib/'\n",
    "                 'NCEP/GFS/Global_0p5deg/catalog.xml')\n",
    "dataset = list(gfs.datasets.values())[1]\n",
    "print(dataset.access_urls)\n",
    "\n",
    "# Create NCSS object to access the NetcdfSubset\n",
    "ncss = NCSS(dataset.access_urls['NetcdfSubset'])\n",
    "\n",
    "# get current date and time\n",
    "now = datetime.utcnow()\n",
    "now = datetime(now.year, now.month, now.day, now.hour)\n",
    "\n",
    "# define time range you want the data for\n",
    "start = now\n",
    "end = now + timedelta(hours=12)\n",
    "\n",
    "query = ncss.query()\n",
    "query.time_range(start, end)\n",
    "query.lonlat_box(north=60, south=20, east=310, west=230)\n",
    "query.accept('netcdf4')\n",
    "query.variables('Temperature_surface', 'Relative_humidity_entire_atmosphere_single_layer',\n",
    "                'Wind_speed_gust_surface')\n",
    "\n",
    "\n",
    "# Helper function for finding proper time variable\n",
    "def find_time_var(var, time_basename='time'):\n",
    "    for coord_name in var.coordinates.split():\n",
    "        if coord_name.startswith(time_basename):\n",
    "            return coord_name\n",
    "    raise ValueError('No time variable found for ' + var.name)\n",
    "\n",
    "\n",
    "# Request data for the variables you want to use\n",
    "data = ncss.get_data(query)\n",
    "print(list(data.variables))\n",
    "\n",
    "# Pull out the lat and lon data\n",
    "lat = data.variables['lat'][:]\n",
    "lon = data.variables['lon'][:]\n",
    "\n",
    "# Get time into a datetime object\n",
    "time_var = data.variables[find_time_var(data.variables['Temperature_surface'])]\n",
    "time_var = num2date(time_var[:], time_var.units).tolist()\n",
    "time_strings = [t.strftime('%m/%d %H:%M') for t in time_var]\n",
    "\n",
    "# Combine 1D latitude and longitudes into a 2D grid of locations\n",
    "lon_2d, lat_2d = np.meshgrid(lon, lat)\n",
    "\n",
    "\n",
    "def plot(varname='', time=0, colormap=''):\n",
    "    variable = data.variables[varname][:]\n",
    "    fig = plt.figure(figsize=(10, 8))\n",
    "    ax = fig.add_subplot(111, projection=ccrs.PlateCarree())\n",
    "    ax.set_extent([235., 290., 20., 55.])\n",
    "    ax.set_title('GFS 12-Hour Forecast', size=16)\n",
    "\n",
    "    # Add state/country boundaries to plot\n",
    "    ax.add_feature(cfeature.STATES)\n",
    "    ax.add_feature(cfeature.BORDERS)\n",
    "\n",
    "    if varname == 'Temperature_surface':\n",
    "        variable = (variable * units.kelvin).to('degF')\n",
    "\n",
    "    # Contour based on variable chosen\n",
    "    c = ax.contourf(lon_2d, lat_2d, variable[time_strings.index(time)], cmap=colormap)\n",
    "    cb = fig.colorbar(c, ax=ax, shrink=0.7)\n",
    "\n",
    "    if varname == 'Temperature_surface':\n",
    "        cb.set_label(r'$^{o}F$', size='large')\n",
    "    if varname == 'Relative_humidity_entire_atmosphere_single_layer':\n",
    "        cb.set_label(r'$\\%$', size='large')\n",
    "    if varname == 'Wind_speed_gust_surface':\n",
    "        cb.set_label(r'$m/s$', size='large')\n",
    "\n",
    "\n",
    "var_widget = widgets.Dropdown(\n",
    "    options={'Temperature': 'Temperature_surface',\n",
    "             'Relative Humidity': 'Relative_humidity_entire_atmosphere_single_layer',\n",
    "             'Wind Speed': 'Wind_speed_gust_surface'},\n",
    "    description='Variable', alignment='center')\n",
    "time_widget = widgets.SelectionSlider(description='Time', options=time_strings, width='40%')\n",
    "colormap_widget = widgets.RadioButtons(description='Colormap',\n",
    "                                       options=['viridis', 'coolwarm', 'YlGnBu', 'RdPu'])\n",
    "x = widgets.interactive(plot, varname=var_widget, time=time_widget, colormap=colormap_widget)\n",
    "display(x)"
   ]
  },
  {
   "cell_type": "code",
   "execution_count": null,
   "metadata": {},
   "outputs": [],
   "source": []
  }
 ],
 "metadata": {
  "kernelspec": {
   "display_name": "Python 3",
   "language": "python",
   "name": "python3"
  },
  "latex_envs": {
   "LaTeX_envs_menu_present": true,
   "autoclose": false,
   "autocomplete": true,
   "bibliofile": "biblio.bib",
   "cite_by": "apalike",
   "current_citInitial": 1,
   "eqLabelWithNumbers": true,
   "eqNumInitial": 1,
   "hotkeys": {
    "equation": "Ctrl-E",
    "itemize": "Ctrl-I"
   },
   "labels_anchors": false,
   "latex_user_defs": false,
   "report_style_numbering": false,
   "user_envs_cfg": false
  },
  "toc": {
   "nav_menu": {},
   "number_sections": true,
   "sideBar": true,
   "skip_h1_title": false,
   "title_cell": "Table of Contents",
   "title_sidebar": "Contents",
   "toc_cell": true,
   "toc_position": {},
   "toc_section_display": true,
   "toc_window_display": false
  }
 },
 "nbformat": 4,
 "nbformat_minor": 1
}
