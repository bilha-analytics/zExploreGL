{
 "cells": [
  {
   "cell_type": "markdown",
   "metadata": {
    "toc": true
   },
   "source": [
    "<h1>Table of Contents<span class=\"tocSkip\"></span></h1>\n",
    "<div class=\"toc\"><ul class=\"toc-item\"><li><span><a href=\"#The-Data\" data-toc-modified-id=\"The-Data-1\"><span class=\"toc-item-num\">1&nbsp;&nbsp;</span>The Data</a></span></li><li><span><a href=\"#Digital-Referral-Numbers\" data-toc-modified-id=\"Digital-Referral-Numbers-2\"><span class=\"toc-item-num\">2&nbsp;&nbsp;</span>Digital Referral Numbers</a></span><ul class=\"toc-item\"><li><span><a href=\"#Reasons-for-Referrals\" data-toc-modified-id=\"Reasons-for-Referrals-2.1\"><span class=\"toc-item-num\">2.1&nbsp;&nbsp;</span>Reasons for Referrals</a></span><ul class=\"toc-item\"><li><span><a href=\"#Approach:\" data-toc-modified-id=\"Approach:-2.1.1\"><span class=\"toc-item-num\">2.1.1&nbsp;&nbsp;</span>Approach:</a></span></li><li><span><a href=\"#Findings:\" data-toc-modified-id=\"Findings:-2.1.2\"><span class=\"toc-item-num\">2.1.2&nbsp;&nbsp;</span>Findings:</a></span></li></ul></li><li><span><a href=\"#Referral-Numbers\" data-toc-modified-id=\"Referral-Numbers-2.2\"><span class=\"toc-item-num\">2.2&nbsp;&nbsp;</span>Referral Numbers</a></span></li><li><span><a href=\"#Timing-of-Referrals\" data-toc-modified-id=\"Timing-of-Referrals-2.3\"><span class=\"toc-item-num\">2.3&nbsp;&nbsp;</span>Timing of Referrals</a></span></li><li><span><a href=\"#Word-Clouds---Exploring-the-Text\" data-toc-modified-id=\"Word-Clouds---Exploring-the-Text-2.4\"><span class=\"toc-item-num\">2.4&nbsp;&nbsp;</span>Word Clouds - Exploring the Text</a></span></li></ul></li></ul></div>"
   ]
  },
  {
   "cell_type": "raw",
   "metadata": {},
   "source": [
    "<h1>Table of Contents<span class=\"tocSkip\"></span></h1>\n",
    "<div class=\"toc\"><ul class=\"toc-item\"></ul></div>\n",
    "\n",
    "<script>\n",
    "  function code_toggle() {\n",
    "    if (code_shown){\n",
    "      $('div.input').hide('500');\n",
    "      $('#toggleButton').val('Show Code')\n",
    "    } else {\n",
    "      $('div.input').show('500');\n",
    "      $('#toggleButton').val('Hide Code')\n",
    "    }\n",
    "    code_shown = !code_shown\n",
    "  }\n",
    "\n",
    "  $( document ).ready(function(){\n",
    "    code_shown=false;\n",
    "    $('div.input').hide()\n",
    "  });\n",
    "</script>\n",
    "<form action=\"javascript:code_toggle()\"><input type=\"submit\" id=\"toggleButton\" value=\"Show Code\"></form>"
   ]
  },
  {
   "cell_type": "code",
   "execution_count": null,
   "metadata": {
    "scrolled": true
   },
   "outputs": [],
   "source": [
    "%run \"../../xUtilz/utilz_only_loader.ipynb\""
   ]
  },
  {
   "cell_type": "code",
   "execution_count": null,
   "metadata": {
    "scrolled": true
   },
   "outputs": [],
   "source": [
    "db = pd.read_csv( \"../../datasets/LG/IN/181106_Referral_Reasons.csv\" )\n",
    "#db.head(5)\n",
    "#db.dtypes"
   ]
  },
  {
   "cell_type": "code",
   "execution_count": null,
   "metadata": {},
   "outputs": [],
   "source": [
    "## anonymize\n",
    "#db[\"CHV Name\"] = db[\"CHV Name\"].apply( lambda x: hash( x.strip() ) )\n",
    "#db[\"Patient Name\"] = db[\"Patient Name\"].apply( lambda x: hash( x.strip() ) )\n",
    "#db[\"CHV Phone\"] = db[\"CHV Phone\"].apply( lambda x: hash( str(x).strip() ) )\n",
    "#db.drop( \"CHV Phone\" )\n",
    "\n",
    "db[\"CHV Name\"] = \"CHV \" +  pd.Series( pd.factorize( db[\"CHV Name\"])[0] + 1).astype( str)\n",
    "db[\"Patient Name\"] = \"Patient \" +  pd.Series( pd.factorize( db[\"Patient Name\"])[0] + 1).astype( str)\n",
    "db.drop( \"CHV Phone\", axis=1, inplace=True)"
   ]
  },
  {
   "cell_type": "code",
   "execution_count": null,
   "metadata": {
    "scrolled": true
   },
   "outputs": [],
   "source": [
    "## Add Category column for Referral Reasons\n",
    "reasons_groupz = { \n",
    "    \"Neonates\" : [ \"months\", \"umbilical\", \"umbllical\"], \n",
    "    \"Pregnancy\" : [\"delivery\"], \n",
    "    \"U5 Danger Signs\" : [ \"Danger\", \"Diarrhoea\", \"Diarrhea\", \"Dairrhea\", \"Coughing\", \"Cough\", \"Fever\",\"Pneumonia\", \"Pnuemonia\",\n",
    "                        \"Pheumonia\", ],\n",
    "    \"HIVST\" : [\"reactive\", \"partner\", \"intimate\"], \n",
    "    \"Unsupported Cases\" : []\n",
    "}\n",
    "\n",
    "db[\"Reason for Referral\"] = db[\"Referral Reason\"].apply( lambda x: searchString(x, reasons_groupz) ) \n",
    "\n",
    "var_Unsupported = \"Unsupported Cases\"\n",
    "var_Display_Colz = [\"Date of referral\", \"CHV Name\", \"Patient Name\" ,\"Referral Reason\", \"Reason for Referral\"]"
   ]
  },
  {
   "cell_type": "code",
   "execution_count": null,
   "metadata": {
    "scrolled": false
   },
   "outputs": [],
   "source": [
    "# 1. set Date of referral to a datetime type \n",
    "db[\"Date of referral\"] = pd.to_datetime( db[\"Date of referral\"], format=\"%d-%b-%y\") # inplace=True)\n",
    "\n",
    "# 2. Extract Month and year categories \n",
    "#db[\"Month_Number\"] = db[\"Date of referral\"].dt.month\n",
    "#db[\"Month_Name\"] = db[\"Date of referral\"].dt.strftime('%b')\n",
    "db[\"Year\"] = db[\"Date of referral\"].dt.year \n",
    "#db[\"Month_Period\"] = db[\"Date of referral\"].dt.to_period('M') # M - month period in #  pd.to_datetime( \n",
    "db[\"Month\"] = db[\"Date of referral\"].dt.strftime('%b-%y') \n",
    "db[\"Day_of_Week\"] = db[\"Date of referral\"].dt.weekday_name.str[:3] \n",
    "\n",
    "db.sort_values( by='Date of referral', inplace=True)\n",
    "\n",
    "LAST_UPDATED = db[\"Date of referral\"].max().strftime( '%d-%b-%Y')"
   ]
  },
  {
   "cell_type": "markdown",
   "metadata": {},
   "source": [
    "# The Data\n",
    "\n",
    "Here's a glimpse at the data being analyzed\n",
    "- Grouping by CU  and some CHV trait is not possible yet b/c there are no mappings for that yet. \n",
    "- Referral reason and Timing of the referral are the main perspectives \n",
    "\n",
    "Updates\n",
    "- The dataset will get updated weekly. \n",
    "- This data covers the period 22-Aug-2018 to 29th Oct {{LAST_UPDATED}} "
   ]
  },
  {
   "cell_type": "code",
   "execution_count": null,
   "metadata": {
    "scrolled": true
   },
   "outputs": [],
   "source": [
    "print(\"A glimpse at a sample of the data\")\n",
    "db.sample(5)"
   ]
  },
  {
   "cell_type": "markdown",
   "metadata": {},
   "source": [
    "# Digital Referral Numbers "
   ]
  },
  {
   "cell_type": "markdown",
   "metadata": {},
   "source": [
    "## Reasons for Referrals\n",
    "\n",
    "n = 98 referrals {{len(db)}}\n",
    "\n",
    "\n",
    "### Approach: \n",
    "A quick categorization of the open-ended reason for referral field. Categories are based on \n",
    "- Danger Signs: ICCM cases get a referral if there's a danger sign \n",
    "- Neonates: All kids under 2 months get a referral after a '+ve' assessment \n",
    "- Pregnancy: Pregnancy related cases during ANC/PNC follow ups \n",
    "- HIVST: Referrals specific to HIVST linkage \n",
    "- Unsupported: Non-LG supported cases. Primarily generated by the 'free-form' digital referral form, which is a catch-all \n",
    "\n",
    "\n",
    "### Findings:\n",
    "\n",
    "Note: Small sample size for sub-groups\n",
    "\n",
    "**Potentially Increasing Uptake:** Number of referrals have an increasing pattern over the three months. For instance, the proportion of referrals increase from 35% to 47% from September to October.\n",
    "- **Questions:**\n",
    "    - We'll keep watch on if this continues to grow.\n",
    "    - Need to add data on the average referrals per CHV per month and the % of CHVs with referral activities for more perspective. \n",
    "\n",
    "\n",
    "**High # Unsupported Case:** Unsupported cases make up 40% of the referrals. They top the reason for referral. \n",
    "- ICCM danger signs come second with 38% of the referrals. \n",
    "- When we started in August, ICCM cases were the most. However, August activity was for 2 weeks or less. \n",
    "- Cannibalization: The average number of referrals per CHV per month is about 2, which is inline with the main program expectations. So if there are high unsupported cases without an increase in the average number of referrals per CHV per month, then CHVs are likely swapping referral activity at the expense of the MNCH focus areas. \n",
    "- Note though, this is based on a loose view of the open-ended text input for this variable with a quick scan for sensibility. \n",
    "\n",
    "- **Questions:** Follow up questions are  \n",
    "    - Is there main program data for unsupported cases? So far, this is a no - main program 2 - 3 referral targets are for MNCH focus areas. \n",
    "    - Qualitative follow up on why.\n",
    "\n",
    "\n",
    "**Monday and Thursdays are most active:** Most of the referrals are generated on a Monday or Thursday. \n",
    "- There seems to be two moments of activition, Monday and Thursday, and with a declining trend for each \n",
    "- ICCM referral activity is most on Mondays and Fridays. \n",
    "- Neonate activity is most on Mondays and all 6 cases happen in the first moment.\n",
    "\n",
    "- **Questions:**\n",
    "    - Relate to the high number of unsupported cases. \n",
    "    - Relate to ICCM, Neonate and Pregnancy targets per CHV per month for cannibalization particularly \n"
   ]
  },
  {
   "cell_type": "markdown",
   "metadata": {},
   "source": [
    "## Referral Numbers\n",
    "\n",
    "1. Unsupported cases are the main reason for referral \n",
    "    - This is as per a general categorization\n",
    "    - See the word clouds for word specific frequencies \n",
    "\n",
    "3. Potential cannibalization of MNCH referral activity by general referral \n",
    "    - Digital referral has a workflow for general cases\n",
    "    - The average number of referrals per CHV per month doesn't seem to have changed with digital referral; we're at 2 referrals per CHV per month, which is similar to baseline. \n",
    "    - So, if the main program doesn't record general referral cases, then we're potentially seeing some cannibalizatin of MNCH activity. However, this doesn't take into account the following, which ought to be investigated.  \n",
    "        - Number of assessments made by trial group compared to baseline and control. Baseline proportions were that about 16% of assessments resulted in a referral. The targets have been 16 assessments per CHV per month. \n",
    "        - Interaction of incentives. What incentives is referral activity sort of back-filling for? The referral f/u activity on the dashboard, however, is low at below 20% (target is 85%). \n",
    "        - Data quality: Is digital referral bring out data quality issues (e.g. with referral f/u targets or referral numbers) that we could not capture with the manual process? \n",
    "\n"
   ]
  },
  {
   "cell_type": "code",
   "execution_count": null,
   "metadata": {
    "scrolled": false
   },
   "outputs": [],
   "source": [
    "display(HTML('<b>Number of Referrals by Reason for Referral</b>'))\n",
    "\n",
    "t = pd.crosstab( db[\"Reason for Referral\"], columns=\"count\", margins=True) #, margins_name=\"Total Referrals\")\n",
    "t.columns = [\"# of referrals\", \"Total Referrals\"]\n",
    "t.T[:1]"
   ]
  },
  {
   "cell_type": "code",
   "execution_count": null,
   "metadata": {
    "scrolled": false
   },
   "outputs": [],
   "source": [
    "## Count of reasons for referral based on the broad categories\n",
    "plotObject()\n",
    "ax = sns.countplot( data=db, x=\"Reason for Referral\", order=db[\"Reason for Referral\"].value_counts().index )\n",
    "\n",
    "# set % \n",
    "total = len( db[\"Reason for Referral\"])\n",
    "for p in ax.patches:\n",
    "    height = p.get_height()\n",
    "    ax.text(p.get_x()+p.get_width()/2.,\n",
    "            height + 1,\n",
    "            '{:1.0f} %'.format(height/total*100),\n",
    "            ha=\"center\") \n",
    "    \n",
    "plt.title('Reasons for Referral as at %s'% LAST_UPDATED ) ;"
   ]
  },
  {
   "cell_type": "markdown",
   "metadata": {},
   "source": [
    "## Timing of Referrals"
   ]
  },
  {
   "cell_type": "markdown",
   "metadata": {},
   "source": [
    "Looking at when the referrals happen and if any preferrences for different reasons for referrals\n",
    "\n",
    "- Digital referral went live on 22-Aug. \n",
    "- HIVST referral went live on 24-Oct\n",
    "\n",
    "\n",
    "    \n",
    "1. The number of referrals recorded seems to be increasing over time\n",
    "    - There are more referrals in subsequent months. However, this is only 2.5 months of data so far. Let's see how that holds up \n",
    "        - Do we have more referral activity now or is this just the pilot picking up? Another analysis suggests that about 84% of the main program CHVs have a referral activity the period Nov-2017 to Mar-2018. The trial CHVs has 90% of the CHVs with referral activity   \n"
   ]
  },
  {
   "cell_type": "code",
   "execution_count": null,
   "metadata": {
    "scrolled": false
   },
   "outputs": [],
   "source": [
    "## 1.a. referrals by Month\n",
    "plotObject(10,4)\n",
    "ax = sns.countplot( data=db, x=\"Month\" ) \n",
    "# set % \n",
    "total = len( db)\n",
    "for p in ax.patches:\n",
    "    height = p.get_height()\n",
    "    ax.text(p.get_x()+p.get_width()/2.,\n",
    "            height + 1,\n",
    "            '{:1.0f} %'.format(height/total*100),\n",
    "            ha=\"center\") \n",
    "    \n",
    "plt.title('# Referrals by Month as at %s'% LAST_UPDATED ) ;"
   ]
  },
  {
   "cell_type": "code",
   "execution_count": null,
   "metadata": {
    "scrolled": false
   },
   "outputs": [],
   "source": [
    "## 1.b referrals by Month and by reason \n",
    "plotObject()\n",
    "ax = sns.countplot( data=db, x=\"Month\" , hue=\"Reason for Referral\",)  \n",
    "\n",
    "plt.title('# Referrals by Month as at %s'% LAST_UPDATED) ;"
   ]
  },
  {
   "cell_type": "markdown",
   "metadata": {},
   "source": [
    "2. Most of the referrals were on Mondays and Thursdays. What could this say about CHV prioritization? \n",
    "    - ICCM cases have more referrals on Mondays and Fridays\n",
    "    - Neonate cases have more referrals on Mondays and all 6 cases happen in the Mon - Wed moment. \n",
    "    "
   ]
  },
  {
   "cell_type": "code",
   "execution_count": null,
   "metadata": {
    "scrolled": false
   },
   "outputs": [],
   "source": [
    "#display(HTML('<h5> # Referrals by Day of Week as at %s </h5>'% LAST_UPDATED) )\n",
    "## 2. Referrals by Day of the Week\n",
    "plotObject()\n",
    "ax = sns.countplot( data=db, x=\"Day_of_Week\", order=[\"Sun\", \"Mon\", \"Tue\", \"Wed\", \"Thu\", \"Fri\", \"Sat\"] )\n",
    "# set % \n",
    "total = len( db)\n",
    "for p in ax.patches:\n",
    "    height = p.get_height()\n",
    "    ax.text(p.get_x()+p.get_width()/2.,\n",
    "            height + 1,\n",
    "            '{:1.0f} %'.format(height/total*100),\n",
    "            ha=\"center\") \n",
    "    \n",
    "plt.title('# Referrals by Day of Week as at %s'% LAST_UPDATED ) ;"
   ]
  },
  {
   "cell_type": "code",
   "execution_count": null,
   "metadata": {
    "scrolled": false
   },
   "outputs": [],
   "source": [
    "## 3. Referrals by Day of Week and Reason for Referral \n",
    "#plotObject( nc=3)\n",
    "\n",
    "display(HTML('<h5> # Referrals by Day of Week and by Referral Reason as at %s </h5>'% LAST_UPDATED) )\n",
    "\n",
    "g = sns.FacetGrid(data=db, col=\"Reason for Referral\", size=4, aspect = 1, col_wrap=3, sharex=False).map( \n",
    "    sns.countplot, \"Day_of_Week\",  palette='muted', \n",
    "    order=[\"Sun\", \"Mon\", \"Tue\", \"Wed\", \"Thu\", \"Fri\", \"Sat\"] ); #.add_legend() \n"
   ]
  },
  {
   "cell_type": "markdown",
   "metadata": {
    "scrolled": true
   },
   "source": [
    "## Word Clouds - Exploring the Text\n",
    "\n",
    "Translation for Swahili to English not done. Number of swahili entries are few, though. \n",
    "\n",
    "Classification of cases as per above approach seems appropriate. \n",
    "\n",
    "- U5 related cases are most pronounced. E.G. diarrhoea, fever, cough \n",
    "- Words like 'month, two, old, health facility' relate to description of neonates and the requirement that they should be referral \n",
    "- Phrases with the word 'week' refer to duration of a symptom \n",
    "\n",
    "\n"
   ]
  },
  {
   "cell_type": "code",
   "execution_count": null,
   "metadata": {
    "scrolled": false
   },
   "outputs": [],
   "source": [
    "## stop words - use built in set of words \n",
    "## Translating Swahili to Eng \n",
    "\n",
    "display(HTML('<h5>Word Cloud - All Referral Reasons</h5>'))\n",
    "plotObject( 15, 10)\n",
    "plt.imshow( WordCloud( background_color=\"white\", max_font_size=50, max_words=200,\n",
    "                     ).generate( \" \".join( db[\"Referral Reason\"].fillna(' ') ) ) , interpolation='bilinear'  )\n",
    "plt.axis( \"off\" )\n",
    "plt.show(); "
   ]
  },
  {
   "cell_type": "markdown",
   "metadata": {},
   "source": [
    "**Unsupported Cases:** \n",
    "\n",
    "- We have 1 testing data in the live instance.\n",
    "- Body Parts: head, leg, stomach, finger, tooth, back, vagina, ear\n",
    "- Effects: Pain, Bleeding, menstruation, discharge, hearing, itching, infection, \n",
    "    - Mostly pain. \n",
    "- Accidents and Others: Injury, burn, wound, nail, \n",
    "- Unclear: vomiting, mucus, homa, "
   ]
  },
  {
   "cell_type": "code",
   "execution_count": null,
   "metadata": {},
   "outputs": [],
   "source": [
    "display(HTML('<b>Number of test records </b>'))\n",
    "len( db[ db['Referral Reason'].astype(str).str.contains('tes', na=False, case=False) ] )"
   ]
  },
  {
   "cell_type": "code",
   "execution_count": null,
   "metadata": {},
   "outputs": [],
   "source": [
    "display(HTML('<h5>Word Cloud - Unsupported Cases only </h5>'))\n",
    "plotObject( 15, 10)\n",
    "plt.imshow( WordCloud( background_color=\"white\", max_font_size=50, max_words=200,\n",
    "                     ).generate( \" \".join( db[db[\"Reason for Referral\"] ==  var_Unsupported ][\"Referral Reason\"].fillna(' ') ) ) , interpolation='bilinear'  )\n",
    "plt.axis( \"off\" )\n",
    "plt.show(); "
   ]
  },
  {
   "cell_type": "code",
   "execution_count": null,
   "metadata": {},
   "outputs": [],
   "source": [
    "## where referral reason contains 'week'\n",
    "display(HTML('<h5>Referral reasons with the word <u>week</u> </h5>'))\n",
    "db[ db['Referral Reason'].astype(str).str.contains('WEEK', na=False, case=False) ] [ var_Display_Colz ]"
   ]
  },
  {
   "cell_type": "code",
   "execution_count": null,
   "metadata": {},
   "outputs": [],
   "source": [
    "## Where referral reason contains 'finger or pain' \n",
    "display(HTML('<h5>Referral reasons with the word <u>finger</u> </h5>'))\n",
    "db[ db['Referral Reason'].astype(str).str.contains('Finger', na=False, case=False) ][ var_Display_Colz ]\n",
    "\n",
    "\n",
    "display(HTML('<h5>Referral reasons with the word <u>pain</u> </h5>'))\n",
    "display(HTML('For example, <ul> <li>Rows 46, 68 and 19 could relate to pregnancy or general cases but we cannot tell from the data</li> </ul>'))\n",
    "db[ db['Referral Reason'].astype(str).str.contains('pain', na=False, case=False) ][ var_Display_Colz ] "
   ]
  },
  {
   "cell_type": "code",
   "execution_count": null,
   "metadata": {},
   "outputs": [],
   "source": [
    "\n",
    "## Where referral reason cotains 'stomach'\n",
    "display(HTML('<h5>Referral reasons with the word <u>stomach</u> </h5>'))\n",
    "db[ db['Referral Reason'].astype(str).str.contains('Stoma', na=False, case=False) ] [ var_Display_Colz ]"
   ]
  },
  {
   "cell_type": "code",
   "execution_count": null,
   "metadata": {},
   "outputs": [],
   "source": [
    "##  All Unsupported Cases\n",
    "display(HTML('<h5>All Unsupported Cases </h5>'))\n",
    "db[ db['Reason for Referral'] == var_Unsupported ] [ var_Display_Colz ]"
   ]
  },
  {
   "cell_type": "code",
   "execution_count": null,
   "metadata": {},
   "outputs": [],
   "source": []
  }
 ],
 "metadata": {
  "kernelspec": {
   "display_name": "Python 3",
   "language": "python",
   "name": "python3"
  },
  "language_info": {
   "codemirror_mode": {
    "name": "ipython",
    "version": 3
   },
   "file_extension": ".py",
   "mimetype": "text/x-python",
   "name": "python",
   "nbconvert_exporter": "python",
   "pygments_lexer": "ipython3",
   "version": "3.6.3"
  },
  "latex_envs": {
   "LaTeX_envs_menu_present": true,
   "autoclose": false,
   "autocomplete": true,
   "bibliofile": "biblio.bib",
   "cite_by": "apalike",
   "current_citInitial": 1,
   "eqLabelWithNumbers": true,
   "eqNumInitial": 1,
   "hotkeys": {
    "equation": "Ctrl-E",
    "itemize": "Ctrl-I"
   },
   "labels_anchors": false,
   "latex_user_defs": false,
   "report_style_numbering": false,
   "user_envs_cfg": false
  },
  "toc": {
   "nav_menu": {},
   "number_sections": true,
   "sideBar": true,
   "skip_h1_title": false,
   "title_cell": "Table of Contents",
   "title_sidebar": "Contents",
   "toc_cell": true,
   "toc_position": {},
   "toc_section_display": true,
   "toc_window_display": false
  }
 },
 "nbformat": 4,
 "nbformat_minor": 2
}
