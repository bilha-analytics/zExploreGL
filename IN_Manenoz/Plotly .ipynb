{
 "cells": [
  {
   "cell_type": "markdown",
   "metadata": {
    "toc": true
   },
   "source": [
    "<h1>Table of Contents<span class=\"tocSkip\"></span></h1>\n",
    "<div class=\"toc\"><ul class=\"toc-item\"></ul></div>"
   ]
  },
  {
   "cell_type": "raw",
   "metadata": {},
   "source": [
    "<h1>Table of Contents<span class=\"tocSkip\"></span></h1>\n",
    "<div class=\"toc\"><ul class=\"toc-item\"></ul></div>\n",
    "\n",
    "<script>\n",
    "  function code_toggle() {\n",
    "    if (code_shown){\n",
    "      $('div.input').hide('500');\n",
    "      $('#toggleButton').val('Show Code')\n",
    "    } else {\n",
    "      $('div.input').show('500');\n",
    "      $('#toggleButton').val('Hide Code')\n",
    "    }\n",
    "    code_shown = !code_shown\n",
    "  }\n",
    "\n",
    "  $( document ).ready(function(){\n",
    "    code_shown=false;\n",
    "    $('div.input').hide()\n",
    "  });\n",
    "</script>\n",
    "<form action=\"javascript:code_toggle()\"><input type=\"submit\" id=\"toggleButton\" value=\"Show Code\"></form>"
   ]
  },
  {
   "cell_type": "code",
   "execution_count": 1,
   "metadata": {},
   "outputs": [],
   "source": [
    "%run \"../../xUtilz/utilz_only_loader.ipynb\""
   ]
  },
  {
   "cell_type": "code",
   "execution_count": 2,
   "metadata": {},
   "outputs": [],
   "source": [
    "db = pd.read_csv( \"../../datasets/LG/IN/181112_Referral_Reasons.csv\" )"
   ]
  },
  {
   "cell_type": "code",
   "execution_count": 3,
   "metadata": {},
   "outputs": [],
   "source": [
    "db[\"CHV Name\"] = \"CHV \" +  pd.Series( pd.factorize( db[\"CHV Name\"])[0] + 1).astype( str)\n",
    "db[\"Patient Name\"] = \"Patient \" +  pd.Series( pd.factorize( db[\"Patient Name\"])[0] + 1).astype( str)\n",
    "db.drop( \"CHV Phone\", axis=1, inplace=True)"
   ]
  },
  {
   "cell_type": "code",
   "execution_count": 4,
   "metadata": {},
   "outputs": [],
   "source": [
    "reasons_groupz = { \n",
    "    \"Neonates\" : [ \"months\", \"umbilical\", \"umbllical\"], \n",
    "    \"Pregnancy\" : [\"delivery\"], \n",
    "    \"U5 Danger Signs\" : [ \"Danger\", \"Diarrhoea\", \"Diarrhea\", \"Dairrhea\", \"Coughing\", \"Cough\", \"Fever\",\"Pneumonia\", \"Pnuemonia\",\n",
    "                        \"Pheumonia\", ],\n",
    "    \"HIVST\" : [\"reactive\", \"partner\", \"intimate\"], \n",
    "    \"Unsupported Cases\" : []\n",
    "}\n",
    "\n",
    "db[\"Category Referral Reason\"] = db[\"Referral Reason\"].apply( lambda x: searchString(x, reasons_groupz) ) \n",
    "\n",
    "var_bucket_reasons =  \"Category Referral Reason\"\n",
    "var_all_reasons = \"All\"\n",
    "var_Unsupported = \"Unsupported Cases\"\n",
    "var_HIVST = \"HIVST\"\n",
    "var_Display_Colz = [\"Date of referral\", \"CHV Name\", \"Patient Name\" ,\"Referral Reason\", \"Reason for Referral\"]"
   ]
  },
  {
   "cell_type": "code",
   "execution_count": 5,
   "metadata": {},
   "outputs": [],
   "source": [
    "# 1. set Date of referral to a datetime type \n",
    "db[\"Date of referral\"] = pd.to_datetime( db[\"Date of referral\"], format=\"%d-%b-%y\") # inplace=True)\n",
    "\n",
    "# 2. Extract Month and year categories \n",
    "db[\"Year\"] = db[\"Date of referral\"].dt.year \n",
    "db[\"Month\"] = db[\"Date of referral\"].dt.strftime('%b-%y') \n",
    "db[\"Day_of_Week\"] = db[\"Date of referral\"].dt.weekday_name.str[:3] \n",
    "\n",
    "db.sort_values( by='Date of referral', inplace=True)\n",
    "\n",
    "LAST_UPDATED = db[\"Date of referral\"].max().strftime( '%d-%b-%Y')"
   ]
  },
  {
   "cell_type": "code",
   "execution_count": null,
   "metadata": {},
   "outputs": [],
   "source": []
  }
 ],
 "metadata": {
  "kernelspec": {
   "display_name": "Python 3",
   "language": "python",
   "name": "python3"
  },
  "language_info": {
   "codemirror_mode": {
    "name": "ipython",
    "version": 3
   },
   "file_extension": ".py",
   "mimetype": "text/x-python",
   "name": "python",
   "nbconvert_exporter": "python",
   "pygments_lexer": "ipython3",
   "version": "3.6.3"
  },
  "latex_envs": {
   "LaTeX_envs_menu_present": true,
   "autoclose": false,
   "autocomplete": true,
   "bibliofile": "biblio.bib",
   "cite_by": "apalike",
   "current_citInitial": 1,
   "eqLabelWithNumbers": true,
   "eqNumInitial": 1,
   "hotkeys": {
    "equation": "Ctrl-E",
    "itemize": "Ctrl-I"
   },
   "labels_anchors": false,
   "latex_user_defs": false,
   "report_style_numbering": false,
   "user_envs_cfg": false
  },
  "toc": {
   "nav_menu": {},
   "number_sections": true,
   "sideBar": true,
   "skip_h1_title": false,
   "title_cell": "Table of Contents",
   "title_sidebar": "Contents",
   "toc_cell": true,
   "toc_position": {},
   "toc_section_display": true,
   "toc_window_display": false
  }
 },
 "nbformat": 4,
 "nbformat_minor": 2
}
