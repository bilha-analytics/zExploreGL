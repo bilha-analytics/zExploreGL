{
 "cells": [
  {
   "cell_type": "markdown",
   "metadata": {
    "toc": true
   },
   "source": [
    "<h1>Table of Contents<span class=\"tocSkip\"></span></h1>\n",
    "<div class=\"toc\"><ul class=\"toc-item\"></ul></div>"
   ]
  },
  {
   "cell_type": "raw",
   "metadata": {},
   "source": [
    "<h1>Table of Contents<span class=\"tocSkip\"></span></h1>\n",
    "<div class=\"toc\"><ul class=\"toc-item\"></ul></div>\n",
    "\n",
    "<script>\n",
    "  function code_toggle() {\n",
    "    if (code_shown){\n",
    "      $('div.input').hide('500');\n",
    "      $('#toggleButton').val('Show Code')\n",
    "    } else {\n",
    "      $('div.input').show('500');\n",
    "      $('#toggleButton').val('Hide Code')\n",
    "    }\n",
    "    code_shown = !code_shown\n",
    "  }\n",
    "\n",
    "  $( document ).ready(function(){\n",
    "    code_shown=false;\n",
    "    $('div.input').hide()\n",
    "  });\n",
    "</script>\n",
    "<form action=\"javascript:code_toggle()\"><input type=\"submit\" id=\"toggleButton\" value=\"Show Code\"></form>"
   ]
  },
  {
   "cell_type": "code",
   "execution_count": 7,
   "metadata": {},
   "outputs": [
    {
     "name": "stdout",
     "output_type": "stream",
     "text": [
      "The rpy2.ipython extension is already loaded. To reload it, use:\n",
      "  %reload_ext rpy2.ipython\n",
      "The rmagic extension is already loaded. To reload it, use:\n",
      "  %reload_ext rmagic\n"
     ]
    }
   ],
   "source": [
    "%run \"../../xUtilz/envz_only_loader.ipynb\"\n",
    "%run \"../../xUtilz/utilz_only_loader.ipynb\""
   ]
  },
  {
   "cell_type": "code",
   "execution_count": 8,
   "metadata": {},
   "outputs": [],
   "source": [
    "db = pd.read_csv( \"../../datasets/LG/IN/181112_Referral_Reasons.csv\" )"
   ]
  },
  {
   "cell_type": "code",
   "execution_count": 9,
   "metadata": {},
   "outputs": [],
   "source": [
    "db[\"CHV Name\"] = \"CHV \" +  pd.Series( pd.factorize( db[\"CHV Name\"])[0] + 1).astype( str)\n",
    "db[\"Patient Name\"] = \"Patient \" +  pd.Series( pd.factorize( db[\"Patient Name\"])[0] + 1).astype( str)\n",
    "db.drop( \"CHV Phone\", axis=1, inplace=True)"
   ]
  },
  {
   "cell_type": "code",
   "execution_count": 10,
   "metadata": {},
   "outputs": [],
   "source": [
    "reasons_groupz = { \n",
    "    \"Neonates\" : [ \"months\", \"umbilical\", \"umbllical\"], \n",
    "    \"Pregnancy\" : [\"delivery\"], \n",
    "    \"U5 Danger Signs\" : [ \"Danger\", \"Diarrhoea\", \"Diarrhea\", \"Dairrhea\", \"Coughing\", \"Cough\", \"Fever\",\"Pneumonia\", \"Pnuemonia\",\n",
    "                        \"Pheumonia\", ],\n",
    "    \"HIVST\" : [\"reactive\", \"partner\", \"intimate\"], \n",
    "    \"Unsupported Cases\" : []\n",
    "}\n",
    "\n",
    "db[\"Category Referral Reason\"] = db[\"Referral Reason\"].apply( lambda x: searchString(x, reasons_groupz) ) \n",
    "\n",
    "var_bucket_reasons =  \"Category Referral Reason\"\n",
    "var_all_reasons = \"All\"\n",
    "var_Unsupported = \"Unsupported Cases\"\n",
    "var_HIVST = \"HIVST\"\n",
    "var_Display_Colz = [\"Date of referral\", \"CHV Name\", \"Patient Name\" ,\"Referral Reason\", \"Reason for Referral\"]"
   ]
  },
  {
   "cell_type": "code",
   "execution_count": 5,
   "metadata": {},
   "outputs": [],
   "source": [
    "# 1. set Date of referral to a datetime type \n",
    "db[\"Date of referral\"] = pd.to_datetime( db[\"Date of referral\"], format=\"%d-%b-%y\") # inplace=True)\n",
    "\n",
    "# 2. Extract Month and year categories \n",
    "db[\"Year\"] = db[\"Date of referral\"].dt.year \n",
    "db[\"Month\"] = db[\"Date of referral\"].dt.strftime('%b-%y') \n",
    "db[\"Day_of_Week\"] = db[\"Date of referral\"].dt.weekday_name.str[:3] \n",
    "\n",
    "db.sort_values( by='Date of referral', inplace=True)\n",
    "\n",
    "LAST_UPDATED = db[\"Date of referral\"].max().strftime( '%d-%b-%Y')"
   ]
  },
  {
   "cell_type": "code",
   "execution_count": 13,
   "metadata": {},
   "outputs": [
    {
     "data": {
      "text/plain": [
       "Index(['Date of referral', 'CHV Name', 'Patient Name', 'Referral Reason',\n",
       "       'Category Referral Reason'],\n",
       "      dtype='object')"
      ]
     },
     "execution_count": 13,
     "metadata": {},
     "output_type": "execute_result"
    }
   ],
   "source": [
    "db.columns"
   ]
  },
  {
   "cell_type": "code",
   "execution_count": 16,
   "metadata": {},
   "outputs": [
    {
     "data": {
      "text/html": [
       "<b>Number of Records Table - Digital Referrals </b>"
      ],
      "text/plain": [
       "<IPython.core.display.HTML object>"
      ]
     },
     "metadata": {},
     "output_type": "display_data"
    },
    {
     "data": {
      "text/html": [
       "<div>\n",
       "<style>\n",
       "    .dataframe thead tr:only-child th {\n",
       "        text-align: right;\n",
       "    }\n",
       "\n",
       "    .dataframe thead th {\n",
       "        text-align: left;\n",
       "    }\n",
       "\n",
       "    .dataframe tbody tr th {\n",
       "        vertical-align: top;\n",
       "    }\n",
       "</style>\n",
       "<table border=\"1\" class=\"dataframe\">\n",
       "  <thead>\n",
       "    <tr style=\"text-align: right;\">\n",
       "      <th>Category Referral Reason</th>\n",
       "      <th>HIVST</th>\n",
       "      <th>Neonates</th>\n",
       "      <th>No Response</th>\n",
       "      <th>Pregnancy</th>\n",
       "      <th>U5 Danger Signs</th>\n",
       "      <th>Unsupported Cases</th>\n",
       "      <th>All</th>\n",
       "      <th>Total Per. CHV</th>\n",
       "      <th>Number of CHVs</th>\n",
       "      <th>Records per Client</th>\n",
       "    </tr>\n",
       "  </thead>\n",
       "  <tbody>\n",
       "    <tr>\n",
       "      <th>Patient Name</th>\n",
       "      <td>19.0</td>\n",
       "      <td>7.0</td>\n",
       "      <td>11.0</td>\n",
       "      <td>1.0</td>\n",
       "      <td>42.0</td>\n",
       "      <td>53.0</td>\n",
       "      <td>133.0</td>\n",
       "      <td>5.32</td>\n",
       "      <td>25</td>\n",
       "      <td>1.14</td>\n",
       "    </tr>\n",
       "  </tbody>\n",
       "</table>\n",
       "</div>"
      ],
      "text/plain": [
       "Category Referral Reason  HIVST  Neonates  No Response  Pregnancy  \\\n",
       "Patient Name               19.0       7.0         11.0        1.0   \n",
       "\n",
       "Category Referral Reason  U5 Danger Signs  Unsupported Cases    All  \\\n",
       "Patient Name                         42.0               53.0  133.0   \n",
       "\n",
       "Category Referral Reason  Total Per. CHV  Number of CHVs  Records per Client  \n",
       "Patient Name                        5.32              25                1.14  "
      ]
     },
     "execution_count": 16,
     "metadata": {},
     "output_type": "execute_result"
    }
   ],
   "source": [
    "display(HTML('<b>Number of Records Table - Digital Referrals </b>'))\n",
    "t = pd.pivot_table( db, index=var_bucket_reasons, values=[\"Patient Name\"], aggfunc='count', margins=True ).T\n",
    "t[\"Total Per. CHV\"] = len( db ) / len( db[\"CHV Name\"].unique() )\n",
    "#t[ \"Total per CHV per Month\"] = (len( db ) / len( db[\"CHV Name\"].unique() ) )/ (db[\"Date of referral\"].max().to_period('M') - db[\"Date of referral\"].min().to_period('M'))\n",
    "t['Number of CHVs'] =  len( db[\"CHV Name\"].unique() ) \n",
    "t['Records per Client'] =  len(db)/len( db[\"Patient Name\"].unique() )\n",
    "t.round(2)\n"
   ]
  },
  {
   "cell_type": "code",
   "execution_count": 17,
   "metadata": {},
   "outputs": [
    {
     "data": {
      "text/plain": [
       "Index(['HIVST', 'Neonates', 'No Response', 'Pregnancy', 'U5 Danger Signs',\n",
       "       'Unsupported Cases', 'All', 'Total Per. CHV', 'Number of CHVs',\n",
       "       'Records per Client'],\n",
       "      dtype='object', name='Category Referral Reason')"
      ]
     },
     "execution_count": 17,
     "metadata": {},
     "output_type": "execute_result"
    }
   ],
   "source": [
    "t.columns"
   ]
  },
  {
   "cell_type": "code",
   "execution_count": 25,
   "metadata": {},
   "outputs": [
    {
     "name": "stdout",
     "output_type": "stream",
     "text": [
      "All : 133.0   ]]]]\n",
      "Total Per. CHV : 5.32   ]]]]\n",
      "Number of CHVs : 25   ]]]]\n",
      "Records per Client : 1.13675213675   ]]]]\n"
     ]
    }
   ],
   "source": [
    "for i in t.columns[6:]:\n",
    "    print( \"%s : %s   ]]]]\"% (i, t[i][0]))"
   ]
  },
  {
   "cell_type": "code",
   "execution_count": null,
   "metadata": {},
   "outputs": [],
   "source": []
  }
 ],
 "metadata": {
  "anaconda-cloud": {},
  "hide_input": false,
  "kernelspec": {
   "display_name": "Python 3",
   "language": "python",
   "name": "python3"
  },
  "language_info": {
   "codemirror_mode": {
    "name": "ipython",
    "version": 3
   },
   "file_extension": ".py",
   "mimetype": "text/x-python",
   "name": "python",
   "nbconvert_exporter": "python",
   "pygments_lexer": "ipython3",
   "version": "3.6.3"
  },
  "latex_envs": {
   "LaTeX_envs_menu_present": true,
   "autoclose": false,
   "autocomplete": true,
   "bibliofile": "biblio.bib",
   "cite_by": "apalike",
   "current_citInitial": 1,
   "eqLabelWithNumbers": true,
   "eqNumInitial": 1,
   "hotkeys": {
    "equation": "Ctrl-E",
    "itemize": "Ctrl-I"
   },
   "labels_anchors": false,
   "latex_user_defs": false,
   "report_style_numbering": false,
   "user_envs_cfg": false
  },
  "toc": {
   "nav_menu": {},
   "number_sections": true,
   "sideBar": true,
   "skip_h1_title": false,
   "title_cell": "Table of Contents",
   "title_sidebar": "Contents",
   "toc_cell": true,
   "toc_position": {},
   "toc_section_display": true,
   "toc_window_display": false
  }
 },
 "nbformat": 4,
 "nbformat_minor": 2
}
